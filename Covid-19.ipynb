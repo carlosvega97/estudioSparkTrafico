{
 "cells": [
  {
   "cell_type": "code",
   "execution_count": 1,
   "id": "4ffd16d2-c6cb-46f8-9a28-507cf0839ad0",
   "metadata": {},
   "outputs": [],
   "source": [
    "import findspark\n",
    "findspark.init()\n",
    "from pyspark.sql import SparkSession\n",
    "from pyspark.sql.functions import col, lower,desc, mean, explode, lit, dayofmonth, to_date, cast\n",
    "import pandas as pd\n",
    "from pyspark.sql.types import *\n",
    "from pyspark.sql import functions\n",
    "\n",
    "\n",
    "spark = SparkSession.builder.master(\"local[*]\").getOrCreate()\n",
    "\n",
    "# SI TRABAJAMOS EN EL CLUSTER DE LA UNI NECESITAREMOS LA SIGUIENTE LINEA:\n",
    "# spark.conf.set(\"spark.sql.legacy.timeParserPolicy\",\"LEGACY\")"
   ]
  },
  {
   "cell_type": "markdown",
   "id": "50d76e76-38bc-4d13-a8a2-6738582b06e8",
   "metadata": {},
   "source": [
    "<h1>Antes del confinamiento: desde 1/12/19 hasta 13/03/20</h1>"
   ]
  },
  {
   "cell_type": "code",
   "execution_count": 2,
   "id": "9791c03c-7e92-4369-bf58-466cb6c2982d",
   "metadata": {},
   "outputs": [],
   "source": [
    "diciembre19 = spark.read.csv('12-2019.csv', header=True, inferSchema=True, sep=\";\")\n",
    "enero20 = spark.read.csv('01-2020.csv', header=True, inferSchema=True, sep=\";\")\n",
    "febrero20 = spark.read.csv('02-2020.csv', header=True, inferSchema=True, sep=\";\")\n",
    "marzo20 = spark.read.csv('03-2020.csv', header=True, inferSchema=True, sep=\";\")"
   ]
  },
  {
   "cell_type": "code",
   "execution_count": 3,
   "id": "d2e4e4d4-23cb-4bea-ad62-aaa0d3ff7221",
   "metadata": {},
   "outputs": [],
   "source": [
    "diciembre19 = diciembre19.filter(dayofmonth(to_date(col(\"fecha\"),\"yyyy-mm-dd\"))>=1)\n",
    "marzo20 = marzo20.filter(dayofmonth(to_date(col(\"fecha\"),\"yyyy-mm-dd\"))<=13)\n",
    "\n",
    "unionFase1 = diciembre19.union(enero20).union(febrero20).union(marzo20)\n",
    "intFase1 = unionFase1.groupBy(\"id\").mean(\"intensidad\")\n",
    "intFase1 = intFase1.withColumn(\"Fases\", lit('Pre Covid-19'))\n",
    "intFase1 = intFase1.withColumnRenamed(\"avg(intensidad)\", \"intensidad\")\n",
    "intFase1 = intFase1.drop(\"id\").groupBy(\"Fases\").mean(\"intensidad\")"
   ]
  },
  {
   "cell_type": "markdown",
   "id": "a11722e3-5877-4605-bd34-6eeb55ed405f",
   "metadata": {},
   "source": [
    "<h1>Primer estado de alarma: desde 14/03/20 hasta 20/06/20</h1>"
   ]
  },
  {
   "cell_type": "code",
   "execution_count": 5,
   "id": "3b7f7dc8-506f-43b5-9626-00a043dc4eb8",
   "metadata": {},
   "outputs": [],
   "source": [
    "marzo20 = spark.read.csv('03-2020.csv', header=True, inferSchema=True, sep=\";\")\n",
    "abril20 = spark.read.csv('04-2020.csv', header=True, inferSchema=True, sep=\";\")\n",
    "mayo20 = spark.read.csv('05-2020.csv', header=True, inferSchema=True, sep=\";\")\n",
    "junio20 = spark.read.csv('06-2020.csv', header=True, inferSchema=True, sep=\";\")\n"
   ]
  },
  {
   "cell_type": "code",
   "execution_count": 6,
   "id": "f526c640-5a6e-41d0-ae4d-6b0c4ccd6e22",
   "metadata": {},
   "outputs": [],
   "source": [
    "marzo20 = marzo20.filter(dayofmonth(to_date(col(\"fecha\"),\"yyyy-mm-dd\"))>=14)\n",
    "junio20 = junio20.filter(dayofmonth(to_date(col(\"fecha\"),\"yyyy-mm-dd\"))<=20)\n",
    "\n",
    "unionFase2 = marzo20.union(abril20).union(mayo20)\n",
    "intFase2 = unionFase2.groupBy(\"id\").mean(\"intensidad\")\n",
    "intFase2 = intFase2.withColumn(\"Fases\", lit('Primer estado'))\n",
    "intFase2 = intFase2.withColumnRenamed(\"avg(intensidad)\", \"intensidad\")\n",
    "intFase2 = intFase2.drop(\"id\").groupBy(\"Fases\").mean(\"intensidad\")"
   ]
  },
  {
   "cell_type": "code",
   "execution_count": 7,
   "id": "e92958ef-0519-436c-8771-bcbb96545d58",
   "metadata": {},
   "outputs": [
    {
     "name": "stdout",
     "output_type": "stream",
     "text": [
      "+-------------+-----------------+\n",
      "|        Fases|  avg(intensidad)|\n",
      "+-------------+-----------------+\n",
      "|Primer estado|136.3331458375607|\n",
      "+-------------+-----------------+\n",
      "\n"
     ]
    }
   ],
   "source": [
    "intFase2.show()"
   ]
  },
  {
   "cell_type": "markdown",
   "id": "f20199a3-bff2-4187-a720-278c058894ac",
   "metadata": {},
   "source": [
    "<h1>Nueva normalidad: desde 21/06/20 hasta 20/10/20</h1>"
   ]
  },
  {
   "cell_type": "code",
   "execution_count": 8,
   "id": "9ac0a35c-a5e0-4365-8513-d81c038a1929",
   "metadata": {},
   "outputs": [],
   "source": [
    "junio20 = spark.read.csv('06-2020.csv', header=True, inferSchema=True, sep=\";\")\n",
    "julio20 = spark.read.csv('07-2020.csv', header=True, inferSchema=True, sep=\";\")\n",
    "agosto20 = spark.read.csv('08-2020.csv', header=True, inferSchema=True, sep=\";\")\n",
    "septiembre20 = spark.read.csv('09-2020.csv', header=True, inferSchema=True, sep=\";\")\n",
    "octubre20 = spark.read.csv('10-2020.csv', header=True, inferSchema=True, sep=\";\")"
   ]
  },
  {
   "cell_type": "code",
   "execution_count": 9,
   "id": "05417bff-16b5-46b8-9aa7-abcb6cc941b7",
   "metadata": {},
   "outputs": [],
   "source": [
    "mayo20 = mayo20.filter(dayofmonth(to_date(col(\"fecha\"),\"yyyy-mm-dd\"))>=21)\n",
    "octubre20 = octubre20.filter(dayofmonth(to_date(col(\"fecha\"),\"yyyy-mm-dd\"))<=20)\n",
    "\n",
    "unionFase3 = marzo20.union(junio20).union(mayo20).union(julio20).union(agosto20).union(septiembre20).union(octubre20)\n",
    "intFase3 = unionFase3.groupBy(\"id\").mean(\"intensidad\")\n",
    "intFase3 = intFase3.withColumn(\"Fases\", lit('Nueva normalidad'))\n",
    "intFase3 = intFase3.withColumnRenamed(\"avg(intensidad)\", \"intensidad\")\n",
    "intFase3 = intFase3.drop(\"id\").groupBy(\"Fases\").mean(\"intensidad\")"
   ]
  },
  {
   "cell_type": "code",
   "execution_count": 10,
   "id": "f91ce173-f1b7-4a28-a59b-8e9271c61cf0",
   "metadata": {},
   "outputs": [
    {
     "name": "stdout",
     "output_type": "stream",
     "text": [
      "+----------------+-----------------+\n",
      "|           Fases|  avg(intensidad)|\n",
      "+----------------+-----------------+\n",
      "|Nueva normalidad|288.1112356542706|\n",
      "+----------------+-----------------+\n",
      "\n"
     ]
    }
   ],
   "source": [
    "intFase3.show()"
   ]
  },
  {
   "cell_type": "markdown",
   "id": "617d1ee9-1eac-4b08-9686-9b02c5de82ec",
   "metadata": {},
   "source": [
    "<h1>Segundo estado de alarma: desde 21/10/20 hasta 9/05/21</h1>"
   ]
  },
  {
   "cell_type": "code",
   "execution_count": 11,
   "id": "feafe71d-be2a-4cf3-bd07-7fc5b411c214",
   "metadata": {},
   "outputs": [],
   "source": [
    "octubre20 = spark.read.csv('10-2020.csv', header=True, inferSchema=True, sep=\";\")\n",
    "noviembre20 = spark.read.csv('11-2020.csv', header=True, inferSchema=True, sep=\";\")\n",
    "diciembre20 = spark.read.csv('12-2020.csv', header=True, inferSchema=True, sep=\";\")\n",
    "enero21 = spark.read.csv('01-2021.csv', header=True, inferSchema=True, sep=\";\")\n",
    "febrero21 = spark.read.csv('02-2021.csv', header=True, inferSchema=True, sep=\";\")\n",
    "marzo21 = spark.read.csv('03-2021.csv', header=True, inferSchema=True, sep=\";\")\n",
    "abril21 = spark.read.csv('04-2021.csv', header=True, inferSchema=True, sep=\";\")\n",
    "mayo21 = spark.read.csv('05-2021.csv', header=True, inferSchema=True, sep=\";\")"
   ]
  },
  {
   "cell_type": "code",
   "execution_count": 12,
   "id": "be2228a3-828f-4971-983c-43183e2ce158",
   "metadata": {},
   "outputs": [],
   "source": [
    "octubre20 = octubre20.filter(dayofmonth(to_date(col(\"fecha\"),\"yyyy-mm-dd\"))>=21)\n",
    "mayo21 = mayo21.filter(dayofmonth(to_date(col(\"fecha\"),\"yyyy-mm-dd\"))<=9)\n",
    "\n",
    "unionFase4 = octubre20.union(junio20).union(noviembre20).union(diciembre20).union(enero21).union(febrero21).union(marzo21).union(abril21).union(mayo21)\n",
    "intFase4 = unionFase4.groupBy(\"id\").mean(\"intensidad\")\n",
    "intFase4 = intFase4.withColumn(\"Fases\", lit('Segundo estado'))\n",
    "intFase4 = intFase4.withColumnRenamed(\"avg(intensidad)\", \"intensidad\")\n",
    "intFase4 = intFase4.drop(\"id\").groupBy(\"Fases\").mean(\"intensidad\")"
   ]
  },
  {
   "cell_type": "code",
   "execution_count": 13,
   "id": "b9581958-487a-449d-af73-21b6b093f807",
   "metadata": {},
   "outputs": [
    {
     "name": "stdout",
     "output_type": "stream",
     "text": [
      "+--------------+-----------------+\n",
      "|         Fases|  avg(intensidad)|\n",
      "+--------------+-----------------+\n",
      "|Segundo estado|335.3101337644425|\n",
      "+--------------+-----------------+\n",
      "\n"
     ]
    }
   ],
   "source": [
    "intFase4.show()"
   ]
  },
  {
   "cell_type": "markdown",
   "id": "6964b642-a7bd-400f-82a2-a75d015db11d",
   "metadata": {},
   "source": [
    "<h1>Después de segundo estado de alarma: desde 9/05/21 hasta 1/11/21</h1>"
   ]
  },
  {
   "cell_type": "code",
   "execution_count": 14,
   "id": "80899411-9942-4973-8dbc-ff4e28ac4bdd",
   "metadata": {},
   "outputs": [],
   "source": [
    "mayo21 = spark.read.csv('05-2021.csv', header=True, inferSchema=True, sep=\";\")\n",
    "junio21 = spark.read.csv('06-2021.csv', header=True, inferSchema=True, sep=\";\")\n",
    "julio21 = spark.read.csv('07-2021.csv', header=True, inferSchema=True, sep=\";\")\n",
    "agosto21 = spark.read.csv('08-2021.csv', header=True, inferSchema=True, sep=\";\")\n",
    "septiembre21 = spark.read.csv('09-2021.csv', header=True, inferSchema=True, sep=\";\")\n",
    "octubre21 = spark.read.csv('10-2021.csv', header=True, inferSchema=True, sep=\";\")\n",
    "noviembre21 = spark.read.csv('11-2021.csv', header=True, inferSchema=True, sep=\";\")\n",
    "# diciembre21 = spark.read.csv('/data/trafico/DataTrafico/2021/12-2021.csv', header=True, inferSchema=True, sep=\";\")"
   ]
  },
  {
   "cell_type": "code",
   "execution_count": 15,
   "id": "ba9a32d2-1678-49c3-a64b-a195bd461b04",
   "metadata": {},
   "outputs": [],
   "source": [
    "mayo21 = mayo21.filter(dayofmonth(to_date(col(\"fecha\"),\"yyyy-mm-dd\"))>=9)\n",
    "noviembre21 = noviembre21.filter(dayofmonth(to_date(col(\"fecha\"),\"yyyy-mm-dd\"))<=1)\n",
    "\n",
    "unionFase5 = octubre20.union(mayo21).union(junio21).union(julio21).union(agosto21).union(septiembre21).union(octubre21).union(noviembre21)\n",
    "intFase5 = unionFase5.groupBy(\"id\").mean(\"intensidad\")\n",
    "intFase5 = intFase5.withColumn(\"Fases\", lit('Pos-segundo estado'))\n",
    "intFase5 = intFase5.withColumnRenamed(\"avg(intensidad)\", \"intensidad\")\n",
    "intFase5 = intFase5.drop(\"id\").groupBy(\"Fases\").mean(\"intensidad\")"
   ]
  },
  {
   "cell_type": "code",
   "execution_count": 16,
   "id": "4993cedb-a062-4409-8dac-a7cc8cacec8e",
   "metadata": {},
   "outputs": [
    {
     "name": "stdout",
     "output_type": "stream",
     "text": [
      "+------------------+-----------------+\n",
      "|             Fases|  avg(intensidad)|\n",
      "+------------------+-----------------+\n",
      "|Pos-segundo estado|350.9154890837606|\n",
      "+------------------+-----------------+\n",
      "\n"
     ]
    }
   ],
   "source": [
    "intFase5.show()"
   ]
  },
  {
   "cell_type": "code",
   "execution_count": 17,
   "id": "5b4421b9-ab44-48b0-8b79-40780be55d74",
   "metadata": {},
   "outputs": [
    {
     "name": "stdout",
     "output_type": "stream",
     "text": [
      "                Fases  Intensidad media de tráfico \n",
      "0        Pre Covid-19                    419.733556\n",
      "1       Primer estado                    136.333146\n",
      "2    Nueva normalidad                    288.111236\n",
      "3      Segundo estado                    335.310134\n",
      "4  Pos-segundo estado                    350.915489\n"
     ]
    }
   ],
   "source": [
    "unionFinal = intFase1.union(intFase2).union(intFase3).union(intFase4).union(intFase5)\n",
    "nombre = unionFinal.withColumnRenamed(\"avg(intensidad)\", \"Intensidad media de tráfico \")\n",
    "union = nombre.toPandas()\n",
    "print(union)"
   ]
  }
 ],
 "metadata": {
  "kernelspec": {
   "display_name": "Python 3",
   "language": "python",
   "name": "python3"
  },
  "language_info": {
   "codemirror_mode": {
    "name": "ipython",
    "version": 3
   },
   "file_extension": ".py",
   "mimetype": "text/x-python",
   "name": "python",
   "nbconvert_exporter": "python",
   "pygments_lexer": "ipython3",
   "version": "3.8.10"
  },
  "vscode": {
   "interpreter": {
    "hash": "c8ea1c5ea903086be3ae2f54f30b4d1188bc743928b3c99b4e8bf5ea7010a784"
   }
  }
 },
 "nbformat": 4,
 "nbformat_minor": 5
}
