{
 "cells": [
  {
   "cell_type": "code",
   "execution_count": 1,
   "id": "0fb52f18-516a-4c24-bdb2-bee4c9fb2176",
   "metadata": {},
   "outputs": [],
   "source": [
    "import time\n",
    "from pyspark.ml.evaluation import RegressionEvaluator\n",
    "from pyspark.ml.recommendation import ALS \n",
    "import findspark\n",
    "findspark.init()\n",
    "from pyspark.sql import SparkSession\n",
    "from pyspark.sql.functions import col, lower,desc, mean, explode, lit\n",
    "# from pyspark.sql import *\n",
    "import json\n",
    "import requests\n",
    "import pandas as pd"
   ]
  },
  {
   "cell_type": "code",
   "execution_count": 2,
   "id": "7a0b8bc6-4ef3-4446-abbf-8ed03db29941",
   "metadata": {},
   "outputs": [
    {
     "name": "stderr",
     "output_type": "stream",
     "text": [
      "Setting default log level to \"WARN\".\n",
      "To adjust logging level use sc.setLogLevel(newLevel). For SparkR, use setLogLevel(newLevel).\n",
      "                                                                                \r"
     ]
    }
   ],
   "source": [
    "#Creamos la sesión y cargamos los distintos csv que tenemos\n",
    "spark = SparkSession.builder.master(\"local[2]\").getOrCreate()\n",
    "ratings = spark.read.csv('/data/animeratings/rating_complete.csv', header=True, inferSchema=True, encoding='utf-8')\n",
    "\n",
    "#Es importante establecer en esta tabla el header=False, porque esta tabla no tiene encabezados y si lo ponemos a false pone headers automáticos\n",
    "anadir = spark.read.csv('/data/animeratings/valoraciones_EP.csv', header=False, inferSchema=True, encoding='utf-8')\n",
    "\n",
    "anime = spark.read.csv('/data/animeratings/anime.csv', header=True, inferSchema=True, encoding='utf-8')"
   ]
  },
  {
   "cell_type": "code",
   "execution_count": 3,
   "id": "ee978acb-f509-41a4-84ce-56122bc3a81d",
   "metadata": {},
   "outputs": [],
   "source": [
    "#Renombramos las cabeceras para que coincidan en ambas tablas y las unimos\n",
    "cambio = anadir.withColumnRenamed('_c0','user_id').withColumnRenamed('_c1','anime_id').withColumnRenamed('_c2','rating')\n",
    "add2 = ratings.union(cambio)\n",
    "ult = add2.withColumnRenamed('rating','ratings')\n",
    "todo = anime.join(ult, ult.anime_id  == anime.ID)"
   ]
  },
  {
   "cell_type": "markdown",
   "id": "823e56ea-a826-43f4-ad57-361cd07a93c0",
   "metadata": {},
   "source": [
    "<h1>1. ANÁLISIS EXPLORATORIO</h1>"
   ]
  },
  {
   "cell_type": "code",
   "execution_count": 5,
   "id": "9e0778f7-7934-43bc-9ea2-d54dabbf5b28",
   "metadata": {},
   "outputs": [
    {
     "name": "stderr",
     "output_type": "stream",
     "text": [
      "                                                                                \r"
     ]
    },
    {
     "name": "stdout",
     "output_type": "stream",
     "text": [
      "+-------------------------------------------------------------------+-----------------+\n",
      "|Genres                                                             |ratings          |\n",
      "+-------------------------------------------------------------------+-----------------+\n",
      "|Adventure, Demons, Fantasy, Historical, Kids, Magic, Supernatural  |10.0             |\n",
      "|Action, Military, Adventure, Comedy, Drama, Magic, Fantasy, Shounen|9.237009769219878|\n",
      "|Thriller, Sci-Fi                                                   |9.18422767406249 |\n",
      "|Action, Sci-Fi, Comedy, Historical, Parody, Drama, Samurai, Shounen|9.146341463414634|\n",
      "|Military, Sci-Fi, Space, Drama                                     |9.111402623612513|\n",
      "+-------------------------------------------------------------------+-----------------+\n",
      "\n"
     ]
    },
    {
     "name": "stderr",
     "output_type": "stream",
     "text": [
      "[Stage 11:==================================================>       (7 + 1) / 8]\r"
     ]
    },
    {
     "name": "stdout",
     "output_type": "stream",
     "text": [
      "+--------------------------------------------+------------------+\n",
      "|Genres                                      |ratings           |\n",
      "+--------------------------------------------+------------------+\n",
      "|Sci-Fi, Horror                              |2.1830747964982335|\n",
      "|Action, Kids, Adventure, Super Power, Demons|2.388888888888889 |\n",
      "|Kids, Adventure, Space                      |2.7674418604651163|\n",
      "|Comedy, Historical, Fantasy                 |2.875             |\n",
      "|Action, Super Power, Demons, Seinen         |2.9223803363518757|\n",
      "+--------------------------------------------+------------------+\n",
      "\n"
     ]
    },
    {
     "name": "stderr",
     "output_type": "stream",
     "text": [
      "                                                                                \r"
     ]
    }
   ],
   "source": [
    "#Mostramos los 5 géneros mejor y menor valorados para hacer una comparación de cuales gustan más\n",
    "genero = todo.groupBy(\"Genres\").mean(\"ratings\")\n",
    "renomG = genero.withColumnRenamed(\"avg(ratings)\", \"ratings\")\n",
    "generoF = renomG.filter((renomG.Genres != \"Unknown\"))\n",
    "generoF.sort(desc(\"avg(ratings)\")).limit(5).show(truncate=False)\n",
    "generoF.orderBy(['avg(ratings)'], ascending = [True]).limit(5).show(truncate=False)"
   ]
  },
  {
   "cell_type": "code",
   "execution_count": 6,
   "id": "2c335e96-1f14-49c2-acd2-58162bd51996",
   "metadata": {},
   "outputs": [],
   "source": [
    "#Agrupamos las productoras y calculamos la media de su rating junto con el numero de produciones que tiene cada una\n",
    "infoR = todo.groupBy(\"Producers\").mean(\"ratings\")\n",
    "#Agrupamos y contamos las apariciones, que serian la cantidad de series producidas\n",
    "infoN = todo.groupBy(\"Producers\").count() \n",
    "renameA = infoR.withColumnRenamed(\"avg(ratings)\", \"rating_medio\") \n",
    "renameB = infoN.withColumnRenamed(\"count\", \"nº_produciones\")\n",
    "\n",
    "producciones = renameA.join(renameB, on='Producers')\n",
    "\n",
    "#Filtramos para limpiar de datos que no necesitamos el dataframe y ordenamos\n",
    "mejoresProductores = producciones.filter((producciones.Producers != \"Unknown\")).distinct()\n",
    "peoresProductores = producciones.filter((producciones.Producers != \"Unknown\")).distinct()"
   ]
  },
  {
   "cell_type": "code",
   "execution_count": 7,
   "id": "dc74fa06-b319-4a3b-a040-d75e51073547",
   "metadata": {},
   "outputs": [
    {
     "name": "stderr",
     "output_type": "stream",
     "text": [
      "                                                                                \r"
     ]
    },
    {
     "name": "stdout",
     "output_type": "stream",
     "text": [
      "+-----------------------------------------------------------------------------+-----------------+--------------+\n",
      "|Producers                                                                    |rating_medio     |nº_produciones|\n",
      "+-----------------------------------------------------------------------------+-----------------+--------------+\n",
      "|TV Tokyo, Aniplex, Dentsu                                                    |9.24564778301433 |20794         |\n",
      "|Aniplex, Square Enix, Mainichi Broadcasting System, Studio Moriken           |9.237009769219878|134197        |\n",
      "|Kitty Films, K-Factory                                                       |9.224729815638906|9438          |\n",
      "|TV Tokyo, Aniplex, Dentsu, Trinity Sound, Miracle Robo, Studio Jack, Shueisha|9.150585006500073|27692         |\n",
      "|TV Tokyo, Aniplex, Dentsu, Trinity Sound, Audio Highs, Miracle Robo, Shueisha|9.110528462390025|34326         |\n",
      "+-----------------------------------------------------------------------------+-----------------+--------------+\n",
      "\n"
     ]
    },
    {
     "name": "stderr",
     "output_type": "stream",
     "text": [
      "                                                                                \r"
     ]
    },
    {
     "name": "stdout",
     "output_type": "stream",
     "text": [
      "+------------------------------------------+------------------+--------------+\n",
      "|Producers                                 |rating_medio      |nº_produciones|\n",
      "+------------------------------------------+------------------+--------------+\n",
      "|Tsuburaya Productions, NHK Enterprises    |2.0               |2             |\n",
      "|Idea Factory                              |2.130665920537213 |7148          |\n",
      "|Idea Factory, King Records, Design Factory|2.1830747964982335|13022         |\n",
      "|UM Productions                            |2.234234234234234 |222           |\n",
      "|Showgate, Tokyo MX                        |2.7772511848341233|211           |\n",
      "+------------------------------------------+------------------+--------------+\n",
      "\n"
     ]
    }
   ],
   "source": [
    "mejoresProductores.sort(desc(\"rating_medio\")).limit(5).show(truncate=False)\n",
    "peoresProductores.orderBy(['rating_medio'], ascending = [True]).limit(5).show(truncate=False)"
   ]
  },
  {
   "cell_type": "markdown",
   "id": "36455487-ae87-4141-8e42-92af4d750895",
   "metadata": {},
   "source": [
    "<h1> EJERCICIO 2</h1>"
   ]
  },
  {
   "cell_type": "code",
   "execution_count": 8,
   "id": "96fae63e-1b27-4b1a-bf5e-62c82a45f6f9",
   "metadata": {},
   "outputs": [
    {
     "name": "stderr",
     "output_type": "stream",
     "text": [
      "22/12/22 08:52:22 WARN InstanceBuilder$NativeBLAS: Failed to load implementation from:dev.ludovic.netlib.blas.JNIBLAS\n",
      "22/12/22 08:52:22 WARN InstanceBuilder$NativeBLAS: Failed to load implementation from:dev.ludovic.netlib.blas.ForeignLinkerBLAS\n",
      "22/12/22 08:52:23 WARN InstanceBuilder$NativeLAPACK: Failed to load implementation from:dev.ludovic.netlib.lapack.JNILAPACK\n",
      "[Stage 160:>                                                        (0 + 2) / 2]\r"
     ]
    },
    {
     "name": "stdout",
     "output_type": "stream",
     "text": [
      "Root-mean-square error = 1.1626111695644032\n"
     ]
    },
    {
     "name": "stderr",
     "output_type": "stream",
     "text": [
      "                                                                                \r"
     ]
    }
   ],
   "source": [
    "#Creo el conjunto de datos de peliculas\n",
    "movie = todo.filter(todo.Type == \"Movie\").select(\"user_id\",\"anime_id\",\"Name\",\"English name\",\"ratings\",\"Type\")\n",
    "\n",
    "(movie_training, movie_test) = movie.randomSplit([0.8, 0.2])\n",
    "alsMo = ALS(maxIter=10, regParam=0.16, userCol=\"user_id\", itemCol=\"anime_id\", ratingCol=\"ratings\", coldStartStrategy=\"drop\")\n",
    "modelMo = alsMo.fit(movie_training)\n",
    "predictionsMo = modelMo.transform(movie_test)\n",
    "evaluator = RegressionEvaluator(metricName=\"rmse\", labelCol=\"ratings\", predictionCol=\"prediction\")\n",
    "rmse = evaluator.evaluate(predictionsMo) \n",
    "print(\"Root-mean-square error = \" + str(rmse))"
   ]
  },
  {
   "cell_type": "code",
   "execution_count": 9,
   "id": "1b4b849f-a157-45a3-95d1-eb76a2cc6912",
   "metadata": {},
   "outputs": [
    {
     "name": "stderr",
     "output_type": "stream",
     "text": [
      "/home/21609154Carlos/.local/lib/python3.10/site-packages/pyspark/sql/context.py:125: FutureWarning: Deprecated in 3.0.0. Use SparkSession.builder.getOrCreate() instead.\n",
      "  warnings.warn(\n"
     ]
    }
   ],
   "source": [
    "#Hacemos la recomendación de 5 peliculas para el usuario 666666\n",
    "userMo = movie.where(movie.user_id == 666666)\n",
    "recomendacionMo = modelMo.recommendForUserSubset(userMo, 5)"
   ]
  },
  {
   "cell_type": "code",
   "execution_count": 27,
   "id": "877ac0db-36f0-46e3-b457-7626e1c43920",
   "metadata": {},
   "outputs": [
    {
     "name": "stderr",
     "output_type": "stream",
     "text": [
      "[Stage 1512:=================================================>      (7 + 1) / 8]\r"
     ]
    },
    {
     "name": "stdout",
     "output_type": "stream",
     "text": [
      "+-------+-----------------------------------------------------------------------------------------+\n",
      "|user_id|recommendations                                                                          |\n",
      "+-------+-----------------------------------------------------------------------------------------+\n",
      "|666666 |[{28023, 8.705702}, {199, 8.597341}, {32281, 8.406871}, {164, 8.397985}, {431, 8.388902}]|\n",
      "+-------+-----------------------------------------------------------------------------------------+\n",
      "\n",
      "root\n",
      " |-- user_id: integer (nullable = false)\n",
      " |-- recommendations: array (nullable = true)\n",
      " |    |-- element: struct (containsNull = true)\n",
      " |    |    |-- anime_id: integer (nullable = true)\n",
      " |    |    |-- rating: float (nullable = true)\n",
      "\n"
     ]
    },
    {
     "name": "stderr",
     "output_type": "stream",
     "text": [
      "                                                                                \r"
     ]
    }
   ],
   "source": [
    "recomendacionMo.show(truncate=False)\n",
    "recomendacionMo.printSchema()"
   ]
  },
  {
   "cell_type": "code",
   "execution_count": 10,
   "id": "8d6ecc9b-cf4c-4c3d-bd4a-cf391049b5de",
   "metadata": {},
   "outputs": [
    {
     "name": "stderr",
     "output_type": "stream",
     "text": [
      "                                                                                \r"
     ]
    },
    {
     "name": "stdout",
     "output_type": "stream",
     "text": [
      "+-------+--------+--------+\n",
      "|user_id|anime_id|  rating|\n",
      "+-------+--------+--------+\n",
      "| 666666|   28023|8.705702|\n",
      "| 666666|     199|8.597341|\n",
      "| 666666|   32281|8.406871|\n",
      "| 666666|     164|8.397985|\n",
      "| 666666|     431|8.388902|\n",
      "+-------+--------+--------+\n",
      "\n"
     ]
    }
   ],
   "source": [
    "#Uso explode para dividir el struct creado al realizar las recomendaciones y con select elegimos las columnas del struct\n",
    "reconMo = recomendacionMo.withColumn(\"recomendaciones\",explode(\"recommendations\")).drop(\"recommendations\")\n",
    "reconMo2 = reconMo.select(col(\"user_id\"),col(\"recomendaciones.anime_id\"),col(\"recomendaciones.rating\"))\n",
    "j = reconMo2.show()"
   ]
  },
  {
   "cell_type": "code",
   "execution_count": 11,
   "id": "0a17d703-d4b3-488b-9a66-12962109bf33",
   "metadata": {},
   "outputs": [
    {
     "name": "stderr",
     "output_type": "stream",
     "text": [
      "                                                                                \r"
     ]
    },
    {
     "name": "stdout",
     "output_type": "stream",
     "text": [
      "+--------+-------+--------+--------------------+--------------------+-----+\n",
      "|anime_id|user_id|  rating|                Name|        English name| Type|\n",
      "+--------+-------+--------+--------------------+--------------------+-----+\n",
      "|   32281| 666666|8.406871|      Kimi no Na wa.|          Your Name.|Movie|\n",
      "|     431| 666666|8.388902| Howl no Ugoku Shiro|Howl's Moving Castle|Movie|\n",
      "|     164| 666666|8.397985|       Mononoke Hime|   Princess Mononoke|Movie|\n",
      "|     199| 666666|8.597341|Sen to Chihiro no...|       Spirited Away|Movie|\n",
      "|   28023| 666666|8.705702|   Tsuru no Sugomori|             Unknown|Movie|\n",
      "+--------+-------+--------+--------------------+--------------------+-----+\n",
      "\n"
     ]
    }
   ],
   "source": [
    "#Primero modificamos el dataframe para elminar las columnas que no necesitamos y se repiten\n",
    "#Mediante un join, insertamos los nombres de los anime en la tabla donde tenemos las predicciones\n",
    "movieMod = movie.drop(\"user_id\", \"ratings\").distinct().sort(desc(\"anime_id\"))\n",
    "finalMo = reconMo2.join(movieMod, on = 'anime_id').distinct()\n",
    "meMo = finalMo.show()"
   ]
  },
  {
   "cell_type": "code",
   "execution_count": 12,
   "id": "b574924c-c47a-4ef7-8909-61b4b5831cbc",
   "metadata": {},
   "outputs": [
    {
     "name": "stderr",
     "output_type": "stream",
     "text": [
      "22/12/22 08:54:52 WARN MemoryStore: Not enough space to cache rdd_523_7 in memory! (computed 60.7 MiB so far)\n",
      "22/12/22 08:54:52 WARN BlockManager: Persisting block rdd_523_7 to disk instead.\n",
      "[Stage 495:============================>                            (1 + 1) / 2]\r"
     ]
    },
    {
     "name": "stdout",
     "output_type": "stream",
     "text": [
      "Root-mean-square error = 1.143857978443533\n"
     ]
    },
    {
     "name": "stderr",
     "output_type": "stream",
     "text": [
      "                                                                                \r"
     ]
    }
   ],
   "source": [
    "#Creo el conjunto de datos de peliculas\n",
    "tv = todo.filter(todo.Type == \"TV\").select(\"user_id\",\"anime_id\",\"Name\",\"English name\",\"ratings\",\"Type\")\n",
    "\n",
    "(tv_training, tv_test) = tv.randomSplit([0.8, 0.2])\n",
    "alsTv = ALS(maxIter=10, regParam=0.16, userCol=\"user_id\", itemCol=\"anime_id\", ratingCol=\"ratings\", coldStartStrategy=\"drop\")\n",
    "modelTv = alsTv.fit(tv_training)\n",
    "predictionsTv = modelTv.transform(tv_test)\n",
    "evaluator = RegressionEvaluator(metricName=\"rmse\", labelCol=\"ratings\", predictionCol=\"prediction\")\n",
    "rmse = evaluator.evaluate(predictionsTv) \n",
    "print(\"Root-mean-square error = \" + str(rmse))"
   ]
  },
  {
   "cell_type": "code",
   "execution_count": 13,
   "id": "6b16f347-a931-45fc-852f-c25762ae7964",
   "metadata": {},
   "outputs": [],
   "source": [
    "#Hacemos la recomendación de 5 series para el usuario 666666\n",
    "userTv = tv.where(tv.user_id == 666666)\n",
    "recomendacionTv = modelTv.recommendForUserSubset(userTv, 5)"
   ]
  },
  {
   "cell_type": "code",
   "execution_count": 14,
   "id": "60bebc62-761c-4620-837f-001c4705acf6",
   "metadata": {},
   "outputs": [
    {
     "name": "stderr",
     "output_type": "stream",
     "text": [
      "[Stage 521:=================================================>       (7 + 1) / 8]\r"
     ]
    },
    {
     "name": "stdout",
     "output_type": "stream",
     "text": [
      "+-------+--------+---------+\n",
      "|user_id|anime_id|   rating|\n",
      "+-------+--------+---------+\n",
      "| 666666|    2904|  8.80052|\n",
      "| 666666|    9253| 8.749858|\n",
      "| 666666|    4181| 8.723085|\n",
      "| 666666|   38524|8.6793375|\n",
      "| 666666|   28977| 8.675263|\n",
      "+-------+--------+---------+\n",
      "\n"
     ]
    },
    {
     "name": "stderr",
     "output_type": "stream",
     "text": [
      "                                                                                \r"
     ]
    }
   ],
   "source": [
    "#Uso explode para dividir el struct creado al realizar las recomendaciones y con select elegimos las columnas del struct\n",
    "reconTv = recomendacionTv.withColumn(\"recomendaciones\",explode(\"recommendations\")).drop(\"recommendations\")\n",
    "reconTv2 = reconTv.select(col(\"user_id\"),col(\"recomendaciones.anime_id\"),col(\"recomendaciones.rating\"))\n",
    "j = reconTv2.show()"
   ]
  },
  {
   "cell_type": "code",
   "execution_count": 15,
   "id": "22070f95-1177-47f1-a49b-04ba40217096",
   "metadata": {},
   "outputs": [
    {
     "name": "stderr",
     "output_type": "stream",
     "text": [
      "                                                                                \r"
     ]
    },
    {
     "name": "stdout",
     "output_type": "stream",
     "text": [
      "+--------+-------+---------+--------------------+--------------------+----+\n",
      "|anime_id|user_id|   rating|                Name|        English name|Type|\n",
      "+--------+-------+---------+--------------------+--------------------+----+\n",
      "|    2904| 666666|  8.80052|Code Geass: Hangy...|Code Geass:Lelouc...|  TV|\n",
      "|    9253| 666666| 8.749858|         Steins;Gate|         Steins;Gate|  TV|\n",
      "|    4181| 666666| 8.723085|Clannad: After Story|Clannad ~After St...|  TV|\n",
      "|   38524| 666666|8.6793375|Shingeki no Kyoji...|Attack on Titan S...|  TV|\n",
      "|   28977| 666666| 8.675263|            Gintama°|    Gintama Season 4|  TV|\n",
      "+--------+-------+---------+--------------------+--------------------+----+\n",
      "\n"
     ]
    }
   ],
   "source": [
    "#Primero modificamos el dataframe para elminar las columnas que no necesitamos y se repiten\n",
    "#Mediante un join, insertamos los nombres de los anime en la tabla donde tenemos las predicciones\n",
    "tvMod = tv.drop(\"user_id\", \"ratings\").distinct().sort(desc(\"anime_id\"))\n",
    "finalTv = reconTv2.join(tvMod, on = 'anime_id').distinct()\n",
    "meTv = finalTv.show()"
   ]
  },
  {
   "cell_type": "code",
   "execution_count": 16,
   "id": "f6bb4be5-fba8-4b48-9904-6631c686905d",
   "metadata": {},
   "outputs": [
    {
     "name": "stderr",
     "output_type": "stream",
     "text": [
      "                                                                                \r"
     ]
    },
    {
     "name": "stdout",
     "output_type": "stream",
     "text": [
      "+--------+-------+---------+----------------------------------+--------------------------------------+-----+\n",
      "|anime_id|user_id|rating   |Name                              |English name                          |Type |\n",
      "+--------+-------+---------+----------------------------------+--------------------------------------+-----+\n",
      "|2904    |666666 |8.80052  |Code Geass: Hangyaku no Lelouch R2|Code Geass:Lelouch of the Rebellion R2|TV   |\n",
      "|9253    |666666 |8.749858 |Steins;Gate                       |Steins;Gate                           |TV   |\n",
      "|4181    |666666 |8.723085 |Clannad: After Story              |Clannad ~After Story~                 |TV   |\n",
      "|28023   |666666 |8.705702 |Tsuru no Sugomori                 |Unknown                               |Movie|\n",
      "|38524   |666666 |8.6793375|Shingeki no Kyojin Season 3 Part 2|Attack on Titan Season 3 Part 2       |TV   |\n",
      "|28977   |666666 |8.675263 |Gintama°                          |Gintama Season 4                      |TV   |\n",
      "|199     |666666 |8.597341 |Sen to Chihiro no Kamikakushi     |Spirited Away                         |Movie|\n",
      "|32281   |666666 |8.406871 |Kimi no Na wa.                    |Your Name.                            |Movie|\n",
      "|164     |666666 |8.397985 |Mononoke Hime                     |Princess Mononoke                     |Movie|\n",
      "|431     |666666 |8.388902 |Howl no Ugoku Shiro               |Howl's Moving Castle                  |Movie|\n",
      "+--------+-------+---------+----------------------------------+--------------------------------------+-----+\n",
      "\n"
     ]
    }
   ],
   "source": [
    "unir = finalTv.union(finalMo)\n",
    "orden = unir.sort(desc(\"rating\")).show(truncate=False)\n"
   ]
  },
  {
   "cell_type": "markdown",
   "id": "2d1818d0-d4f8-4a3d-ba90-fdffc7f9fee2",
   "metadata": {},
   "source": [
    "<h1>EJERCICIO 3</h1>"
   ]
  },
  {
   "cell_type": "code",
   "execution_count": 17,
   "id": "391bb7c1-2fe3-4739-844b-82e97bb31660",
   "metadata": {},
   "outputs": [
    {
     "name": "stderr",
     "output_type": "stream",
     "text": [
      "                                                                                \r"
     ]
    },
    {
     "name": "stdout",
     "output_type": "stream",
     "text": [
      "[2904, 9253, 4181, 38524, 28977]\n",
      "[28023, 199, 32281, 164, 431]\n"
     ]
    }
   ],
   "source": [
    "#Creamos los arrays con los anime_id de las listas de Tv y Movie que usaremos más adelante\n",
    "listTv = finalTv.rdd.map(lambda x: x.anime_id).collect()\n",
    "listMo = finalMo.rdd.map(lambda x: x.anime_id).collect()\n",
    "print(listTv)\n",
    "print(listMo)"
   ]
  },
  {
   "cell_type": "code",
   "execution_count": 18,
   "id": "9d7aa433-c47f-46d4-a923-2978ab0d8f60",
   "metadata": {},
   "outputs": [
    {
     "name": "stderr",
     "output_type": "stream",
     "text": [
      "/tmp/ipykernel_2903833/2478066977.py:10: FutureWarning: The frame.append method is deprecated and will be removed from pandas in a future version. Use pandas.concat instead.\n",
      "  dataFinalTv = dataFinalTv.append(df, ignore_index=True)\n",
      "/tmp/ipykernel_2903833/2478066977.py:10: FutureWarning: The frame.append method is deprecated and will be removed from pandas in a future version. Use pandas.concat instead.\n",
      "  dataFinalTv = dataFinalTv.append(df, ignore_index=True)\n",
      "/tmp/ipykernel_2903833/2478066977.py:10: FutureWarning: The frame.append method is deprecated and will be removed from pandas in a future version. Use pandas.concat instead.\n",
      "  dataFinalTv = dataFinalTv.append(df, ignore_index=True)\n",
      "/tmp/ipykernel_2903833/2478066977.py:10: FutureWarning: The frame.append method is deprecated and will be removed from pandas in a future version. Use pandas.concat instead.\n",
      "  dataFinalTv = dataFinalTv.append(df, ignore_index=True)\n",
      "/tmp/ipykernel_2903833/2478066977.py:10: FutureWarning: The frame.append method is deprecated and will be removed from pandas in a future version. Use pandas.concat instead.\n",
      "  dataFinalTv = dataFinalTv.append(df, ignore_index=True)\n"
     ]
    }
   ],
   "source": [
    "#Creamos el dataframe vacio donde volcaremos el json\n",
    "dataFinalTv = pd.DataFrame()\n",
    "\n",
    "#Recorremos el array de la lista anterior y hacemos un append para realizar la union del json a la tabla vacia\n",
    "for x in listTv:\n",
    "    url = \"https://api.jikan.moe/v4/anime/\" + str(x) + \"/full\"\n",
    "    response = requests.get(url).text\n",
    "    data = json.loads(response)\n",
    "    df = pd.json_normalize(data)\n",
    "    dataFinalTv = dataFinalTv.append(df, ignore_index=True)"
   ]
  },
  {
   "cell_type": "code",
   "execution_count": 19,
   "id": "4f7c76bb-a003-4278-825e-8d93386dcfb7",
   "metadata": {},
   "outputs": [
    {
     "name": "stderr",
     "output_type": "stream",
     "text": [
      "/tmp/ipykernel_2903833/819404743.py:3: FutureWarning: this method is deprecated in favour of `Styler.hide(axis='index')`\n",
      "  mostrarTv.style.hide_index()\n"
     ]
    },
    {
     "data": {
      "text/html": [
       "<style type=\"text/css\">\n",
       "</style>\n",
       "<table id=\"T_2b011\">\n",
       "  <thead>\n",
       "    <tr>\n",
       "      <th id=\"T_2b011_level0_col0\" class=\"col_heading level0 col0\" >data.mal_id</th>\n",
       "      <th id=\"T_2b011_level0_col1\" class=\"col_heading level0 col1\" >data.episodes</th>\n",
       "      <th id=\"T_2b011_level0_col2\" class=\"col_heading level0 col2\" >data.title</th>\n",
       "      <th id=\"T_2b011_level0_col3\" class=\"col_heading level0 col3\" >data.year</th>\n",
       "      <th id=\"T_2b011_level0_col4\" class=\"col_heading level0 col4\" >data.synopsis</th>\n",
       "    </tr>\n",
       "  </thead>\n",
       "  <tbody>\n",
       "    <tr>\n",
       "      <td id=\"T_2b011_row0_col0\" class=\"data row0 col0\" >2904</td>\n",
       "      <td id=\"T_2b011_row0_col1\" class=\"data row0 col1\" >25</td>\n",
       "      <td id=\"T_2b011_row0_col2\" class=\"data row0 col2\" >Code Geass: Hangyaku no Lelouch R2</td>\n",
       "      <td id=\"T_2b011_row0_col3\" class=\"data row0 col3\" >2008</td>\n",
       "      <td id=\"T_2b011_row0_col4\" class=\"data row0 col4\" >One year has passed since the Black Rebellion, a failed uprising against the Holy Britannian Empire led by the masked vigilante Zero, who is now missing. At a loss without their revolutionary leader, Area 11's resistance group—the Black Knights—find themselves too powerless to combat the brutality inflicted upon the Elevens by Britannia, which has increased significantly in order to crush any hope of a future revolt. \n",
       "\n",
       "Lelouch Lamperouge, having lost all memory of his double life, is living peacefully alongside his friends as a high school student at Ashford Academy. His former partner C.C., unable to accept this turn of events, takes it upon herself to remind him of his past purpose, hoping that the mastermind Zero will rise once again to finish what he started, in this thrilling conclusion to the series.\n",
       "\n",
       "[Written by MAL Rewrite]</td>\n",
       "    </tr>\n",
       "    <tr>\n",
       "      <td id=\"T_2b011_row1_col0\" class=\"data row1 col0\" >9253</td>\n",
       "      <td id=\"T_2b011_row1_col1\" class=\"data row1 col1\" >24</td>\n",
       "      <td id=\"T_2b011_row1_col2\" class=\"data row1 col2\" >Steins;Gate</td>\n",
       "      <td id=\"T_2b011_row1_col3\" class=\"data row1 col3\" >2011</td>\n",
       "      <td id=\"T_2b011_row1_col4\" class=\"data row1 col4\" >Eccentric scientist Rintarou Okabe has a never-ending thirst for scientific exploration. Together with his ditzy but well-meaning friend Mayuri Shiina and his roommate Itaru Hashida, Rintarou founds the Future Gadget Laboratory in the hopes of creating technological innovations that baffle the human psyche. Despite claims of grandeur, the only notable \"gadget\" the trio have created is a microwave that has the mystifying power to turn bananas into green goo.\n",
       "\n",
       "However, when Rintarou decides to attend neuroscientist Kurisu Makise's conference on time travel, he experiences a series of strange events that lead him to believe that there is more to the \"Phone Microwave\" gadget than meets the eye. Apparently able to send text messages into the past using the microwave, Rintarou dabbles further with the \"time machine,\" attracting the ire and attention of the mysterious organization SERN.\n",
       "\n",
       "Due to the novel discovery, Rintarou and his friends find themselves in an ever-present danger. As he works to mitigate the damage his invention has caused to the timeline, he is not only fighting a battle to save his loved ones, but also one against his degrading sanity.\n",
       "\n",
       "[Written by MAL Rewrite]</td>\n",
       "    </tr>\n",
       "    <tr>\n",
       "      <td id=\"T_2b011_row2_col0\" class=\"data row2 col0\" >4181</td>\n",
       "      <td id=\"T_2b011_row2_col1\" class=\"data row2 col1\" >24</td>\n",
       "      <td id=\"T_2b011_row2_col2\" class=\"data row2 col2\" >Clannad: After Story</td>\n",
       "      <td id=\"T_2b011_row2_col3\" class=\"data row2 col3\" >2008</td>\n",
       "      <td id=\"T_2b011_row2_col4\" class=\"data row2 col4\" >Clannad: After Story, the sequel to the critically acclaimed slice-of-life series Clannad, begins after Tomoya Okazaki and Nagisa Furukawa graduate from high school. Together, they experience the emotional rollercoaster of growing up. Unable to decide on a course for his future, Tomoya learns the value of a strong work ethic and discovers the strength of Nagisa's support. Through the couple's dedication and unity of purpose, they push forward to confront their personal problems, deepen their old relationships, and create new bonds.\n",
       "\n",
       "Time also moves on in the Illusionary World. As the plains grow cold with the approach of winter, the Illusionary Girl and the Garbage Doll are presented with a difficult situation that reveals the World's true purpose.\n",
       "\n",
       "Based on the visual novel by Key and produced by Kyoto Animation, Clannad: After Story is an impactful drama highlighting the importance of family and the struggles of adulthood.\n",
       "\n",
       "[Written by MAL Rewrite]</td>\n",
       "    </tr>\n",
       "    <tr>\n",
       "      <td id=\"T_2b011_row3_col0\" class=\"data row3 col0\" >38524</td>\n",
       "      <td id=\"T_2b011_row3_col1\" class=\"data row3 col1\" >10</td>\n",
       "      <td id=\"T_2b011_row3_col2\" class=\"data row3 col2\" >Shingeki no Kyojin Season 3 Part 2</td>\n",
       "      <td id=\"T_2b011_row3_col3\" class=\"data row3 col3\" >2019</td>\n",
       "      <td id=\"T_2b011_row3_col4\" class=\"data row3 col4\" >Seeking to restore humanity's diminishing hope, the Survey Corps embark on a mission to retake Wall Maria, where the battle against the merciless \"Titans\" takes the stage once again.\n",
       "\n",
       "Returning to the tattered Shiganshina District that was once his home, Eren Yeager and the Corps find the town oddly unoccupied by Titans. Even after the outer gate is plugged, they strangely encounter no opposition. The mission progresses smoothly until Armin Arlert, highly suspicious of the enemy's absence, discovers distressing signs of a potential scheme against them. \n",
       "\n",
       "Shingeki no Kyojin Season 3 Part 2 follows Eren as he vows to take back everything that was once his. Alongside him, the Survey Corps strive—through countless sacrifices—to carve a path towards victory and uncover the secrets locked away in the Yeager family's basement.\n",
       "\n",
       "[Written by MAL Rewrite]</td>\n",
       "    </tr>\n",
       "    <tr>\n",
       "      <td id=\"T_2b011_row4_col0\" class=\"data row4 col0\" >28977</td>\n",
       "      <td id=\"T_2b011_row4_col1\" class=\"data row4 col1\" >51</td>\n",
       "      <td id=\"T_2b011_row4_col2\" class=\"data row4 col2\" >Gintama°</td>\n",
       "      <td id=\"T_2b011_row4_col3\" class=\"data row4 col3\" >2015</td>\n",
       "      <td id=\"T_2b011_row4_col4\" class=\"data row4 col4\" >Gintoki, Shinpachi, and Kagura return as the fun-loving but broke members of the Yorozuya team! Living in an alternate-reality Edo, where swords are prohibited and alien overlords have conquered Japan, they try to thrive on doing whatever work they can get their hands on. However, Shinpachi and Kagura still haven't been paid... Does Gin-chan really spend all that cash playing pachinko?\n",
       "\n",
       "Meanwhile, when Gintoki drunkenly staggers home one night, an alien spaceship crashes nearby. A fatally injured crew member emerges from the ship and gives Gintoki a strange, clock-shaped device, warning him that it is incredibly powerful and must be safeguarded. Mistaking it for his alarm clock, Gintoki proceeds to smash the device the next morning and suddenly discovers that the world outside his apartment has come to a standstill. With Kagura and Shinpachi at his side, he sets off to get the device fixed; though, as usual, nothing is ever that simple for the Yorozuya team.\n",
       "\n",
       "Filled with tongue-in-cheek humor and moments of heartfelt emotion, Gintama's fourth season finds Gintoki and his friends facing both their most hilarious misadventures and most dangerous crises yet.\n",
       "\n",
       "[Written by MAL Rewrite]</td>\n",
       "    </tr>\n",
       "  </tbody>\n",
       "</table>\n"
      ],
      "text/plain": [
       "<pandas.io.formats.style.Styler at 0x7f30fff02080>"
      ]
     },
     "execution_count": 19,
     "metadata": {},
     "output_type": "execute_result"
    }
   ],
   "source": [
    "#Mostramos la información extra     \n",
    "mostrarTv=dataFinalTv[[\"data.mal_id\",\"data.episodes\",\"data.title\",\"data.year\",\"data.synopsis\"]]\n",
    "mostrarTv.style.hide_index()"
   ]
  },
  {
   "cell_type": "code",
   "execution_count": 28,
   "id": "c8dc3387-d972-4026-b1bd-ab74662ea9be",
   "metadata": {},
   "outputs": [
    {
     "name": "stderr",
     "output_type": "stream",
     "text": [
      "/tmp/ipykernel_2903833/706812944.py:10: FutureWarning: The frame.append method is deprecated and will be removed from pandas in a future version. Use pandas.concat instead.\n",
      "  dataFinalMo = dataFinalMo.append(df, ignore_index=True)\n",
      "/tmp/ipykernel_2903833/706812944.py:10: FutureWarning: The frame.append method is deprecated and will be removed from pandas in a future version. Use pandas.concat instead.\n",
      "  dataFinalMo = dataFinalMo.append(df, ignore_index=True)\n",
      "/tmp/ipykernel_2903833/706812944.py:10: FutureWarning: The frame.append method is deprecated and will be removed from pandas in a future version. Use pandas.concat instead.\n",
      "  dataFinalMo = dataFinalMo.append(df, ignore_index=True)\n",
      "/tmp/ipykernel_2903833/706812944.py:10: FutureWarning: The frame.append method is deprecated and will be removed from pandas in a future version. Use pandas.concat instead.\n",
      "  dataFinalMo = dataFinalMo.append(df, ignore_index=True)\n",
      "/tmp/ipykernel_2903833/706812944.py:10: FutureWarning: The frame.append method is deprecated and will be removed from pandas in a future version. Use pandas.concat instead.\n",
      "  dataFinalMo = dataFinalMo.append(df, ignore_index=True)\n"
     ]
    }
   ],
   "source": [
    "#Creamos el dataframe vacio donde volcaremos el json\n",
    "dataFinalMo = pd.DataFrame()\n",
    "\n",
    "#Recorremos el array de la lista anterior y hacemos un append para realizar la union del json a la tabla vacia\n",
    "for x in listMo:\n",
    "    url = \"https://api.jikan.moe/v4/anime/\" + str(x) + \"/full\"\n",
    "    response = requests.get(url).text\n",
    "    data = json.loads(response)\n",
    "    df = pd.json_normalize(data)\n",
    "    dataFinalMo = dataFinalMo.append(df, ignore_index=True)"
   ]
  },
  {
   "cell_type": "code",
   "execution_count": 29,
   "id": "39275ece-c35c-4d69-a597-45abfaa3d7c9",
   "metadata": {},
   "outputs": [
    {
     "name": "stderr",
     "output_type": "stream",
     "text": [
      "/tmp/ipykernel_2903833/363655212.py:3: FutureWarning: this method is deprecated in favour of `Styler.hide(axis='index')`\n",
      "  mostrarMo.style.hide_index()\n"
     ]
    },
    {
     "data": {
      "text/html": [
       "<style type=\"text/css\">\n",
       "</style>\n",
       "<table id=\"T_c3ebe\">\n",
       "  <thead>\n",
       "    <tr>\n",
       "      <th id=\"T_c3ebe_level0_col0\" class=\"col_heading level0 col0\" >data.mal_id</th>\n",
       "      <th id=\"T_c3ebe_level0_col1\" class=\"col_heading level0 col1\" >data.duration</th>\n",
       "      <th id=\"T_c3ebe_level0_col2\" class=\"col_heading level0 col2\" >data.title</th>\n",
       "      <th id=\"T_c3ebe_level0_col3\" class=\"col_heading level0 col3\" >data.rating</th>\n",
       "      <th id=\"T_c3ebe_level0_col4\" class=\"col_heading level0 col4\" >data.synopsis</th>\n",
       "    </tr>\n",
       "  </thead>\n",
       "  <tbody>\n",
       "    <tr>\n",
       "      <td id=\"T_c3ebe_row0_col0\" class=\"data row0 col0\" >28023</td>\n",
       "      <td id=\"T_c3ebe_row0_col1\" class=\"data row0 col1\" >17 min</td>\n",
       "      <td id=\"T_c3ebe_row0_col2\" class=\"data row0 col2\" >Tsuru no Sugomori</td>\n",
       "      <td id=\"T_c3ebe_row0_col3\" class=\"data row0 col3\" >G - All Ages</td>\n",
       "      <td id=\"T_c3ebe_row0_col4\" class=\"data row0 col4\" >An earnest tale of animal cooperation, as two out-of-place chickens try to make their home on an island inhabited by cranes. When they are attacked by an eagle, their adoptive parent cranes are killed, but the chickens organize a counterstrike. Eventually, peace is restored to the island. Based on a story by Teru Takakura, this anime was made over a three-year period by around 80 members of the Japan Film Broadcasting Industry Association under the pseudonymous lead of Shibayama.\n",
       "\n",
       "(Source: The Anime Encyclopedia)</td>\n",
       "    </tr>\n",
       "    <tr>\n",
       "      <td id=\"T_c3ebe_row1_col0\" class=\"data row1 col0\" >199</td>\n",
       "      <td id=\"T_c3ebe_row1_col1\" class=\"data row1 col1\" >2 hr 4 min</td>\n",
       "      <td id=\"T_c3ebe_row1_col2\" class=\"data row1 col2\" >Sen to Chihiro no Kamikakushi</td>\n",
       "      <td id=\"T_c3ebe_row1_col3\" class=\"data row1 col3\" >PG - Children</td>\n",
       "      <td id=\"T_c3ebe_row1_col4\" class=\"data row1 col4\" >Stubborn, spoiled, and naïve, 10-year-old Chihiro Ogino is less than pleased when she and her parents discover an abandoned amusement park on the way to their new house. Cautiously venturing inside, she realizes that there is more to this place than meets the eye, as strange things begin to happen once dusk falls. Ghostly apparitions and food that turns her parents into pigs are just the start—Chihiro has unwittingly crossed over into the spirit world. Now trapped, she must summon the courage to live and work amongst spirits, with the help of the enigmatic Haku and the cast of unique characters she meets along the way.\n",
       "\n",
       "Vivid and intriguing, Sen to Chihiro no Kamikakushi tells the story of Chihiro's journey through an unfamiliar world as she strives to save her parents and return home.\n",
       "\n",
       "[Written by MAL Rewrite]</td>\n",
       "    </tr>\n",
       "    <tr>\n",
       "      <td id=\"T_c3ebe_row2_col0\" class=\"data row2 col0\" >32281</td>\n",
       "      <td id=\"T_c3ebe_row2_col1\" class=\"data row2 col1\" >1 hr 46 min</td>\n",
       "      <td id=\"T_c3ebe_row2_col2\" class=\"data row2 col2\" >Kimi no Na wa.</td>\n",
       "      <td id=\"T_c3ebe_row2_col3\" class=\"data row2 col3\" >PG-13 - Teens 13 or older</td>\n",
       "      <td id=\"T_c3ebe_row2_col4\" class=\"data row2 col4\" >Mitsuha Miyamizu, a high school girl, yearns to live the life of a boy in the bustling city of Tokyo—a dream that stands in stark contrast to her present life in the countryside. Meanwhile in the city, Taki Tachibana lives a busy life as a high school student while juggling his part-time job and hopes for a future in architecture.\n",
       "\n",
       "One day, Mitsuha awakens in a room that is not her own and suddenly finds herself living the dream life in Tokyo—but in Taki's body! Elsewhere, Taki finds himself living Mitsuha's life in the humble countryside. In pursuit of an answer to this strange phenomenon, they begin to search for one another.\n",
       "\n",
       "Kimi no Na wa. revolves around Mitsuha and Taki's actions, which begin to have a dramatic impact on each other's lives, weaving them into a fabric held together by fate and circumstance.\n",
       "\n",
       "[Written by MAL Rewrite]</td>\n",
       "    </tr>\n",
       "    <tr>\n",
       "      <td id=\"T_c3ebe_row3_col0\" class=\"data row3 col0\" >164</td>\n",
       "      <td id=\"T_c3ebe_row3_col1\" class=\"data row3 col1\" >2 hr 13 min</td>\n",
       "      <td id=\"T_c3ebe_row3_col2\" class=\"data row3 col2\" >Mononoke Hime</td>\n",
       "      <td id=\"T_c3ebe_row3_col3\" class=\"data row3 col3\" >PG-13 - Teens 13 or older</td>\n",
       "      <td id=\"T_c3ebe_row3_col4\" class=\"data row3 col4\" >When an Emishi village is attacked by a fierce demon boar, the young prince Ashitaka puts his life at stake to defend his tribe. With its dying breath, the beast curses the prince's arm, granting him demonic powers while gradually siphoning his life away. Instructed by the village elders to travel westward for a cure, Ashitaka arrives at Tatara, the Iron Town, where he finds himself embroiled in a fierce conflict: Lady Eboshi of Tatara, promoting constant deforestation, stands against Princess San and the sacred spirits of the forest, who are furious at the destruction brought by the humans. As the opposing forces of nature and mankind begin to clash in a desperate struggle for survival, Ashitaka attempts to seek harmony between the two, all the while battling the latent demon inside of him. Princess Mononoke is a tale depicting the connection of technology and nature, while showing the path to harmony that could be achieved by mutual acceptance.\n",
       "\n",
       "[Written by MAL Rewrite]</td>\n",
       "    </tr>\n",
       "    <tr>\n",
       "      <td id=\"T_c3ebe_row4_col0\" class=\"data row4 col0\" >431</td>\n",
       "      <td id=\"T_c3ebe_row4_col1\" class=\"data row4 col1\" >1 hr 59 min</td>\n",
       "      <td id=\"T_c3ebe_row4_col2\" class=\"data row4 col2\" >Howl no Ugoku Shiro</td>\n",
       "      <td id=\"T_c3ebe_row4_col3\" class=\"data row4 col3\" >G - All Ages</td>\n",
       "      <td id=\"T_c3ebe_row4_col4\" class=\"data row4 col4\" >That jumbled piece of architecture, that cacophony of hissing steam and creaking joints, with smoke billowing from it as it moves on its own... That castle is home to the magnificent wizard Howl, infamous for both his magical prowess and for being a womanizer—or so the rumor goes in Sophie Hatter's small town. Sophie, as the plain daughter of a hatmaker, does not expect much from her future and is content with working hard in the shop. \n",
       "\n",
       "However, Sophie's simple life takes a turn for the exciting when she is ensnared in a disturbing situation, and the mysterious wizard appears to rescue her. Unfortunately, this encounter, brief as it may be, spurs the vain and vengeful Witch of the Waste—in a fit of jealousy caused by a past discord with Howl—to put a curse on the maiden, turning her into an old woman.\n",
       "\n",
       "In an endeavor to return to normal, Sophie must accompany Howl and a myriad of eccentric companions—ranging from a powerful fire demon to a hopping scarecrow—in his living castle, on a dangerous adventure as a raging war tears their kingdom apart.\n",
       "\n",
       "[Written by MAL Rewrite]</td>\n",
       "    </tr>\n",
       "  </tbody>\n",
       "</table>\n"
      ],
      "text/plain": [
       "<pandas.io.formats.style.Styler at 0x7f30febfe170>"
      ]
     },
     "execution_count": 29,
     "metadata": {},
     "output_type": "execute_result"
    }
   ],
   "source": [
    "#Mostramos la información extra de las peliculas\n",
    "mostrarMo=dataFinalMo[[\"data.mal_id\",\"data.duration\",\"data.title\",\"data.rating\",\"data.synopsis\"]]\n",
    "mostrarMo.style.hide_index()"
   ]
  },
  {
   "cell_type": "code",
   "execution_count": null,
   "id": "3f5dd5a4-f843-4c6f-8b73-eb219be5129a",
   "metadata": {},
   "outputs": [],
   "source": []
  }
 ],
 "metadata": {
  "kernelspec": {
   "display_name": "Python 3 (ipykernel)",
   "language": "python",
   "name": "python3"
  },
  "language_info": {
   "codemirror_mode": {
    "name": "ipython",
    "version": 3
   },
   "file_extension": ".py",
   "mimetype": "text/x-python",
   "name": "python",
   "nbconvert_exporter": "python",
   "pygments_lexer": "ipython3",
   "version": "3.10.6"
  }
 },
 "nbformat": 4,
 "nbformat_minor": 5
}
