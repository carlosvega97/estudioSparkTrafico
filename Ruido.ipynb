{
 "cells": [
  {
   "cell_type": "code",
   "execution_count": 21,
   "metadata": {},
   "outputs": [],
   "source": [
    "import findspark\n",
    "findspark.init()\n",
    "from pyspark.sql import SparkSession\n",
    "from pyspark.sql.functions import col, lower,desc, mean, explode, lit, dayofmonth, to_date, cast\n",
    "import pandas as pd\n",
    "from pyspark.sql.types import *\n",
    "from pyspark.sql import functions\n",
    "\n",
    "\n",
    "spark = SparkSession.builder.master(\"local[*]\").getOrCreate()\n",
    "\n",
    "# SI TRABAJAMOS EN EL CLUSTER DE LA UNI NECESITAREMOS LA SIGUIENTE LINEA:\n",
    "# spark.conf.set(\"spark.sql.legacy.timeParserPolicy\",\"LEGACY\")"
   ]
  },
  {
   "cell_type": "code",
   "execution_count": 22,
   "metadata": {},
   "outputs": [],
   "source": [
    "accidentes = spark.read.csv('Ruido_diario_acumulado.csv', header=True, inferSchema=True, sep=\";\").na.drop()\n",
    "accidentes = accidentes.drop(\"LAS01\").drop(\"LAS10\").drop(\"LAS50\").drop(\"LAS90\").drop(\"LAS99\")\n",
    "accidentes = accidentes.withColumn(\"LAEQ\", functions.regexp_replace('LAEQ','[,]',\".\"))\n",
    "accidentes = accidentes.withColumn(\"LAEQ\",col(\"LAEQ\").cast(FloatType()))\n"
   ]
  },
  {
   "cell_type": "code",
   "execution_count": 23,
   "metadata": {},
   "outputs": [
    {
     "name": "stdout",
     "output_type": "stream",
     "text": [
      "+------------+----------------------------+\n",
      "|       Fases|Contaminacion acustica media|\n",
      "+------------+----------------------------+\n",
      "|Pre Covid-19|           60.59371911908181|\n",
      "+------------+----------------------------+\n",
      "\n"
     ]
    }
   ],
   "source": [
    "\n",
    "antesD19 = accidentes.filter((accidentes.anio == 2019)&(accidentes.mes == 12))\n",
    "antesD19 = antesD19.withColumn(\"Fases\", lit('Pre Covid-19'))\n",
    "antesD19 = antesD19.groupBy(\"Fases\").mean(\"LAEQ\")\n",
    "\n",
    "antesE20 = accidentes.filter((accidentes.anio == 2020)&(accidentes.mes == 1))\n",
    "antesE20 = antesE20.withColumn(\"Fases\", lit('Pre Covid-19'))\n",
    "antesE20 = antesE20.groupBy(\"Fases\").mean(\"LAEQ\")\n",
    "\n",
    "antesF20 = accidentes.filter((accidentes.anio == 2020)&(accidentes.mes == 2))\n",
    "antesF20 = antesF20.withColumn(\"Fases\", lit('Pre Covid-19'))\n",
    "antesF20 = antesF20.groupBy(\"Fases\").mean(\"LAEQ\")\n",
    "\n",
    "antesM20 = accidentes.filter((accidentes.anio == 2020)&(accidentes.mes == 3)&(accidentes.dia <= 13))\n",
    "antesM20 = antesM20.withColumn(\"Fases\", lit('Pre Covid-19'))\n",
    "antesM20 = antesM20.groupBy(\"Fases\").mean(\"LAEQ\")\n",
    "\n",
    "unionPost = antesD19.union(antesE20).union(antesF20).union(antesM20)\n",
    "\n",
    "unionPost = unionPost.groupBy(\"Fases\").mean(\"avg(LAEQ)\")\n",
    "\n",
    "unionPost = unionPost.withColumnRenamed(\"avg(avg(LAEQ))\", \"Contaminacion acustica media\")\n",
    "\n",
    "\n",
    "unionPost.show()"
   ]
  },
  {
   "cell_type": "code",
   "execution_count": 24,
   "metadata": {},
   "outputs": [
    {
     "name": "stdout",
     "output_type": "stream",
     "text": [
      "+-------------+----------------------------+\n",
      "|        Fases|Contaminacion acustica media|\n",
      "+-------------+----------------------------+\n",
      "|Primer estado|           56.95467500050028|\n",
      "+-------------+----------------------------+\n",
      "\n"
     ]
    }
   ],
   "source": [
    "\n",
    "PrimerM20 = accidentes.filter((accidentes.anio == 2020)&(accidentes.mes == 3)&(accidentes.dia >= 14))\n",
    "PrimerM20 = PrimerM20.withColumn(\"Fases\", lit('Primer estado'))\n",
    "PrimerM20 = PrimerM20.groupBy(\"Fases\").mean(\"LAEQ\")\n",
    "\n",
    "PrimerA20 = accidentes.filter((accidentes.anio == 2020)&(accidentes.mes == 4))\n",
    "PrimerA20 = PrimerA20.withColumn(\"Fases\", lit('Primer estado'))\n",
    "PrimerA20 = PrimerA20.groupBy(\"Fases\").mean(\"LAEQ\")\n",
    "\n",
    "PrimerMa20 = accidentes.filter((accidentes.anio == 2020)&(accidentes.mes == 5))\n",
    "PrimerMa20 = PrimerMa20.withColumn(\"Fases\", lit('Primer estado'))\n",
    "PrimerMa20 = PrimerMa20.groupBy(\"Fases\").mean(\"LAEQ\")\n",
    "\n",
    "PrimerJ20 = accidentes.filter((accidentes.anio == 2020)&(accidentes.mes == 6)&(accidentes.dia <= 20))\n",
    "PrimerJ20 = PrimerJ20.withColumn(\"Fases\", lit('Primer estado'))\n",
    "PrimerJ20 = PrimerJ20.groupBy(\"Fases\").mean(\"LAEQ\")\n",
    "\n",
    "\n",
    "\n",
    "unionPri = PrimerM20.union(PrimerA20).union(PrimerMa20).union(PrimerJ20)\n",
    "\n",
    "unionPri = unionPri.groupBy(\"Fases\").mean(\"avg(LAEQ)\")\n",
    "\n",
    "unionPri = unionPri.withColumnRenamed(\"avg(avg(LAEQ))\", \"Contaminacion acustica media\")\n",
    "\n",
    "\n",
    "unionPri.show()"
   ]
  },
  {
   "cell_type": "code",
   "execution_count": 25,
   "metadata": {},
   "outputs": [
    {
     "name": "stdout",
     "output_type": "stream",
     "text": [
      "+----------------+----------------------------+\n",
      "|           Fases|Contaminacion acustica media|\n",
      "+----------------+----------------------------+\n",
      "|Nueva normalidad|           58.94953955536082|\n",
      "+----------------+----------------------------+\n",
      "\n"
     ]
    }
   ],
   "source": [
    "\n",
    "NormJ20 = accidentes.filter((accidentes.anio == 2020)&(accidentes.mes == 6)&(accidentes.dia >= 21))\n",
    "NormJ20 = NormJ20.withColumn(\"Fases\", lit('Nueva normalidad'))\n",
    "NormJ20 = NormJ20.groupBy(\"Fases\").mean(\"LAEQ\")\n",
    "\n",
    "NormJu20 = accidentes.filter((accidentes.anio == 2020)&(accidentes.mes == 7))\n",
    "NormJu20 = NormJu20.withColumn(\"Fases\", lit('Nueva normalidad'))\n",
    "NormJu20 = NormJu20.groupBy(\"Fases\").mean(\"LAEQ\")\n",
    "\n",
    "NormAg20 = accidentes.filter((accidentes.anio == 2020)&(accidentes.mes == 8))\n",
    "NormAg20 = NormAg20.withColumn(\"Fases\", lit('Nueva normalidad'))\n",
    "NormAg20 = NormAg20.groupBy(\"Fases\").mean(\"LAEQ\")\n",
    "\n",
    "NormS20 = accidentes.filter((accidentes.anio == 2020)&(accidentes.mes == 9))\n",
    "NormS20 = NormS20.withColumn(\"Fases\", lit('Nueva normalidad'))\n",
    "NormS20 = NormS20.groupBy(\"Fases\").mean(\"LAEQ\")\n",
    "\n",
    "NormO20 = accidentes.filter((accidentes.anio == 2020)&(accidentes.mes == 10)&(accidentes.dia <= 20))\n",
    "NormO20 = NormO20.withColumn(\"Fases\", lit('Nueva normalidad'))\n",
    "NormO20 = NormO20.groupBy(\"Fases\").mean(\"LAEQ\")\n",
    "\n",
    "\n",
    "\n",
    "unionNor = NormJ20.union(NormJu20).union(NormAg20).union(NormS20).union(NormO20)\n",
    "\n",
    "unionNor = unionNor.groupBy(\"Fases\").mean(\"avg(LAEQ)\")\n",
    "\n",
    "unionNor = unionNor.withColumnRenamed(\"avg(avg(LAEQ))\", \"Contaminacion acustica media\")\n",
    "unionNor.show()"
   ]
  },
  {
   "cell_type": "code",
   "execution_count": 26,
   "metadata": {},
   "outputs": [
    {
     "name": "stdout",
     "output_type": "stream",
     "text": [
      "+--------------+----------------------------+\n",
      "|         Fases|Contaminacion acustica media|\n",
      "+--------------+----------------------------+\n",
      "|Segundo estado|          59.389116298697004|\n",
      "+--------------+----------------------------+\n",
      "\n"
     ]
    }
   ],
   "source": [
    "SegO20 = accidentes.filter((accidentes.anio == 2020)&(accidentes.mes == 10)&(accidentes.dia >= 21))\n",
    "SegO20 = SegO20.withColumn(\"Fases\", lit('Segundo estado'))\n",
    "SegO20 = SegO20.groupBy(\"Fases\").mean(\"LAEQ\")\n",
    "\n",
    "Seg20 = accidentes.filter((accidentes.anio == 2020)&(accidentes.mes >= 11))\n",
    "Seg20 = Seg20.withColumn(\"Fases\", lit('Segundo estado'))\n",
    "Seg20 = Seg20.groupBy(\"Fases\").mean(\"LAEQ\")\n",
    "\n",
    "Seg21 = accidentes.filter((accidentes.anio == 2021)&(accidentes.mes <= 4))\n",
    "Seg21 = Seg21.withColumn(\"Fases\", lit('Segundo estado'))\n",
    "Seg21 = Seg21.groupBy(\"Fases\").mean(\"LAEQ\")\n",
    "\n",
    "SegM21 = accidentes.filter((accidentes.anio == 2021)&(accidentes.mes == 5)&(accidentes.dia <= 9))\n",
    "SegM21 = SegM21.withColumn(\"Fases\", lit('Segundo estado'))\n",
    "SegM21 = SegM21.groupBy(\"Fases\").mean(\"LAEQ\")\n",
    "\n",
    "\n",
    "\n",
    "unionSeg = SegO20.union(SegO20).union(Seg21).union(SegM21)\n",
    "\n",
    "unionSeg = unionSeg.groupBy(\"Fases\").mean(\"avg(LAEQ)\")\n",
    "\n",
    "unionSeg = unionSeg.withColumnRenamed(\"avg(avg(LAEQ))\", \"Contaminacion acustica media\")\n",
    "unionSeg.show()"
   ]
  },
  {
   "cell_type": "code",
   "execution_count": 27,
   "metadata": {},
   "outputs": [
    {
     "name": "stdout",
     "output_type": "stream",
     "text": [
      "+------------------+----------------------------+\n",
      "|             Fases|Contaminacion acustica media|\n",
      "+------------------+----------------------------+\n",
      "|Pos-segundo estado|           59.06720607447366|\n",
      "+------------------+----------------------------+\n",
      "\n"
     ]
    }
   ],
   "source": [
    "DespM21 = accidentes.filter((accidentes.anio == 2021)&(accidentes.mes == 5)&(accidentes.dia >= 9))\n",
    "DespM21 = DespM21.withColumn(\"Fases\", lit('Pos-segundo estado'))\n",
    "DespM21 = DespM21.groupBy(\"Fases\").mean(\"LAEQ\")\n",
    "\n",
    "Desp21 = accidentes.filter((accidentes.anio == 2021)&(accidentes.mes >= 5))\n",
    "Desp21 = Desp21.filter((accidentes.anio == 2021)&(accidentes.mes <= 9))\n",
    "Desp21 = Desp21.withColumn(\"Fases\", lit('Pos-segundo estado'))\n",
    "Desp21 = Desp21.groupBy(\"Fases\").mean(\"LAEQ\")\n",
    "\n",
    "unionSeg = DespM21.union(Desp21)\n",
    "\n",
    "unionSeg = unionSeg.groupBy(\"Fases\").mean(\"avg(LAEQ)\")\n",
    "\n",
    "unionSeg = unionSeg.withColumnRenamed(\"avg(avg(LAEQ))\", \"Contaminacion acustica media\")\n",
    "unionSeg.show()"
   ]
  },
  {
   "cell_type": "code",
   "execution_count": 28,
   "metadata": {},
   "outputs": [
    {
     "name": "stdout",
     "output_type": "stream",
     "text": [
      "                Fases  Contaminacion acustica media\n",
      "0        Pre Covid-19                     60.593719\n",
      "1       Primer estado                     56.954675\n",
      "2    Nueva normalidad                     58.949540\n",
      "3      Segundo estado                     59.893164\n",
      "4  Pos-segundo estado                     59.067206\n"
     ]
    }
   ],
   "source": [
    "unionFinal = unionPost.union(unionPri).union(unionNor).union(SegO20).union(unionSeg)\n",
    "union = unionFinal.toPandas()\n",
    "print(union)"
   ]
  },
  {
   "cell_type": "code",
   "execution_count": 29,
   "metadata": {},
   "outputs": [],
   "source": [
    "union.to_csv(\"resultadoRuido.csv\", index=False)"
   ]
  }
 ],
 "metadata": {
  "kernelspec": {
   "display_name": "Python 3",
   "language": "python",
   "name": "python3"
  },
  "language_info": {
   "codemirror_mode": {
    "name": "ipython",
    "version": 3
   },
   "file_extension": ".py",
   "mimetype": "text/x-python",
   "name": "python",
   "nbconvert_exporter": "python",
   "pygments_lexer": "ipython3",
   "version": "3.8.10 (tags/v3.8.10:3d8993a, May  3 2021, 11:48:03) [MSC v.1928 64 bit (AMD64)]"
  },
  "orig_nbformat": 4,
  "vscode": {
   "interpreter": {
    "hash": "c8ea1c5ea903086be3ae2f54f30b4d1188bc743928b3c99b4e8bf5ea7010a784"
   }
  }
 },
 "nbformat": 4,
 "nbformat_minor": 2
}
